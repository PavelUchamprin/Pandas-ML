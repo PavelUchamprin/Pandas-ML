{
 "cells": [
  {
   "cell_type": "markdown",
   "metadata": {},
   "source": [
    "Pavel Uchamprin\n",
    "Student id: 163173198\n"
   ]
  },
  {
   "cell_type": "code",
   "execution_count": 178,
   "metadata": {},
   "outputs": [],
   "source": [
    "import pandas as pd\n",
    "import numpy as np\n",
    "from matplotlib import pyplot as plt\n",
    "from sklearn.decomposition import PCA\n",
    "from sklearn.metrics import classification_report\n",
    "from sklearn.linear_model import LogisticRegression\n",
    "from sklearn import metrics\n",
    "import time"
   ]
  },
  {
   "cell_type": "code",
   "execution_count": 90,
   "metadata": {},
   "outputs": [
    {
     "data": {
      "text/html": [
       "<div>\n",
       "<style scoped>\n",
       "    .dataframe tbody tr th:only-of-type {\n",
       "        vertical-align: middle;\n",
       "    }\n",
       "\n",
       "    .dataframe tbody tr th {\n",
       "        vertical-align: top;\n",
       "    }\n",
       "\n",
       "    .dataframe thead th {\n",
       "        text-align: right;\n",
       "    }\n",
       "</style>\n",
       "<table border=\"1\" class=\"dataframe\">\n",
       "  <thead>\n",
       "    <tr style=\"text-align: right;\">\n",
       "      <th></th>\n",
       "      <th>ID</th>\n",
       "      <th>Diagnosis</th>\n",
       "      <th>radius_mean</th>\n",
       "      <th>texture_mean</th>\n",
       "      <th>perimeter_mean</th>\n",
       "      <th>area_mean</th>\n",
       "      <th>smoothness_mean</th>\n",
       "      <th>compactness_mean</th>\n",
       "      <th>concavity_mean</th>\n",
       "      <th>concave_points_mean</th>\n",
       "      <th>...</th>\n",
       "      <th>radius_mean_worst</th>\n",
       "      <th>texture_mean_worst</th>\n",
       "      <th>perimeter_mean_worst</th>\n",
       "      <th>area_mean_worst</th>\n",
       "      <th>smoothness_mean_worst</th>\n",
       "      <th>compactness_mean_worst</th>\n",
       "      <th>concavity_mean_worst</th>\n",
       "      <th>concave_points_mean_worst</th>\n",
       "      <th>symmetry_mean_worst</th>\n",
       "      <th>fractal_dimension_mean_worst</th>\n",
       "    </tr>\n",
       "  </thead>\n",
       "  <tbody>\n",
       "    <tr>\n",
       "      <th>0</th>\n",
       "      <td>842302</td>\n",
       "      <td>M</td>\n",
       "      <td>17.99</td>\n",
       "      <td>10.38</td>\n",
       "      <td>122.80</td>\n",
       "      <td>1001.0</td>\n",
       "      <td>0.11840</td>\n",
       "      <td>0.27760</td>\n",
       "      <td>0.30010</td>\n",
       "      <td>0.14710</td>\n",
       "      <td>...</td>\n",
       "      <td>25.380</td>\n",
       "      <td>17.33</td>\n",
       "      <td>184.60</td>\n",
       "      <td>2019.0</td>\n",
       "      <td>0.16220</td>\n",
       "      <td>0.66560</td>\n",
       "      <td>0.7119</td>\n",
       "      <td>0.2654</td>\n",
       "      <td>0.4601</td>\n",
       "      <td>0.11890</td>\n",
       "    </tr>\n",
       "    <tr>\n",
       "      <th>1</th>\n",
       "      <td>842517</td>\n",
       "      <td>M</td>\n",
       "      <td>20.57</td>\n",
       "      <td>17.77</td>\n",
       "      <td>132.90</td>\n",
       "      <td>1326.0</td>\n",
       "      <td>0.08474</td>\n",
       "      <td>0.07864</td>\n",
       "      <td>0.08690</td>\n",
       "      <td>0.07017</td>\n",
       "      <td>...</td>\n",
       "      <td>24.990</td>\n",
       "      <td>23.41</td>\n",
       "      <td>158.80</td>\n",
       "      <td>1956.0</td>\n",
       "      <td>0.12380</td>\n",
       "      <td>0.18660</td>\n",
       "      <td>0.2416</td>\n",
       "      <td>0.1860</td>\n",
       "      <td>0.2750</td>\n",
       "      <td>0.08902</td>\n",
       "    </tr>\n",
       "    <tr>\n",
       "      <th>2</th>\n",
       "      <td>84300903</td>\n",
       "      <td>M</td>\n",
       "      <td>19.69</td>\n",
       "      <td>21.25</td>\n",
       "      <td>130.00</td>\n",
       "      <td>1203.0</td>\n",
       "      <td>0.10960</td>\n",
       "      <td>0.15990</td>\n",
       "      <td>0.19740</td>\n",
       "      <td>0.12790</td>\n",
       "      <td>...</td>\n",
       "      <td>23.570</td>\n",
       "      <td>25.53</td>\n",
       "      <td>152.50</td>\n",
       "      <td>1709.0</td>\n",
       "      <td>0.14440</td>\n",
       "      <td>0.42450</td>\n",
       "      <td>0.4504</td>\n",
       "      <td>0.2430</td>\n",
       "      <td>0.3613</td>\n",
       "      <td>0.08758</td>\n",
       "    </tr>\n",
       "    <tr>\n",
       "      <th>3</th>\n",
       "      <td>84348301</td>\n",
       "      <td>M</td>\n",
       "      <td>11.42</td>\n",
       "      <td>20.38</td>\n",
       "      <td>77.58</td>\n",
       "      <td>386.1</td>\n",
       "      <td>0.14250</td>\n",
       "      <td>0.28390</td>\n",
       "      <td>0.24140</td>\n",
       "      <td>0.10520</td>\n",
       "      <td>...</td>\n",
       "      <td>14.910</td>\n",
       "      <td>26.50</td>\n",
       "      <td>98.87</td>\n",
       "      <td>567.7</td>\n",
       "      <td>0.20980</td>\n",
       "      <td>0.86630</td>\n",
       "      <td>0.6869</td>\n",
       "      <td>0.2575</td>\n",
       "      <td>0.6638</td>\n",
       "      <td>0.17300</td>\n",
       "    </tr>\n",
       "    <tr>\n",
       "      <th>4</th>\n",
       "      <td>84358402</td>\n",
       "      <td>M</td>\n",
       "      <td>20.29</td>\n",
       "      <td>14.34</td>\n",
       "      <td>135.10</td>\n",
       "      <td>1297.0</td>\n",
       "      <td>0.10030</td>\n",
       "      <td>0.13280</td>\n",
       "      <td>0.19800</td>\n",
       "      <td>0.10430</td>\n",
       "      <td>...</td>\n",
       "      <td>22.540</td>\n",
       "      <td>16.67</td>\n",
       "      <td>152.20</td>\n",
       "      <td>1575.0</td>\n",
       "      <td>0.13740</td>\n",
       "      <td>0.20500</td>\n",
       "      <td>0.4000</td>\n",
       "      <td>0.1625</td>\n",
       "      <td>0.2364</td>\n",
       "      <td>0.07678</td>\n",
       "    </tr>\n",
       "    <tr>\n",
       "      <th>...</th>\n",
       "      <td>...</td>\n",
       "      <td>...</td>\n",
       "      <td>...</td>\n",
       "      <td>...</td>\n",
       "      <td>...</td>\n",
       "      <td>...</td>\n",
       "      <td>...</td>\n",
       "      <td>...</td>\n",
       "      <td>...</td>\n",
       "      <td>...</td>\n",
       "      <td>...</td>\n",
       "      <td>...</td>\n",
       "      <td>...</td>\n",
       "      <td>...</td>\n",
       "      <td>...</td>\n",
       "      <td>...</td>\n",
       "      <td>...</td>\n",
       "      <td>...</td>\n",
       "      <td>...</td>\n",
       "      <td>...</td>\n",
       "      <td>...</td>\n",
       "    </tr>\n",
       "    <tr>\n",
       "      <th>564</th>\n",
       "      <td>926424</td>\n",
       "      <td>M</td>\n",
       "      <td>21.56</td>\n",
       "      <td>22.39</td>\n",
       "      <td>142.00</td>\n",
       "      <td>1479.0</td>\n",
       "      <td>0.11100</td>\n",
       "      <td>0.11590</td>\n",
       "      <td>0.24390</td>\n",
       "      <td>0.13890</td>\n",
       "      <td>...</td>\n",
       "      <td>25.450</td>\n",
       "      <td>26.40</td>\n",
       "      <td>166.10</td>\n",
       "      <td>2027.0</td>\n",
       "      <td>0.14100</td>\n",
       "      <td>0.21130</td>\n",
       "      <td>0.4107</td>\n",
       "      <td>0.2216</td>\n",
       "      <td>0.2060</td>\n",
       "      <td>0.07115</td>\n",
       "    </tr>\n",
       "    <tr>\n",
       "      <th>565</th>\n",
       "      <td>926682</td>\n",
       "      <td>M</td>\n",
       "      <td>20.13</td>\n",
       "      <td>28.25</td>\n",
       "      <td>131.20</td>\n",
       "      <td>1261.0</td>\n",
       "      <td>0.09780</td>\n",
       "      <td>0.10340</td>\n",
       "      <td>0.14400</td>\n",
       "      <td>0.09791</td>\n",
       "      <td>...</td>\n",
       "      <td>23.690</td>\n",
       "      <td>38.25</td>\n",
       "      <td>155.00</td>\n",
       "      <td>1731.0</td>\n",
       "      <td>0.11660</td>\n",
       "      <td>0.19220</td>\n",
       "      <td>0.3215</td>\n",
       "      <td>0.1628</td>\n",
       "      <td>0.2572</td>\n",
       "      <td>0.06637</td>\n",
       "    </tr>\n",
       "    <tr>\n",
       "      <th>566</th>\n",
       "      <td>926954</td>\n",
       "      <td>M</td>\n",
       "      <td>16.60</td>\n",
       "      <td>28.08</td>\n",
       "      <td>108.30</td>\n",
       "      <td>858.1</td>\n",
       "      <td>0.08455</td>\n",
       "      <td>0.10230</td>\n",
       "      <td>0.09251</td>\n",
       "      <td>0.05302</td>\n",
       "      <td>...</td>\n",
       "      <td>18.980</td>\n",
       "      <td>34.12</td>\n",
       "      <td>126.70</td>\n",
       "      <td>1124.0</td>\n",
       "      <td>0.11390</td>\n",
       "      <td>0.30940</td>\n",
       "      <td>0.3403</td>\n",
       "      <td>0.1418</td>\n",
       "      <td>0.2218</td>\n",
       "      <td>0.07820</td>\n",
       "    </tr>\n",
       "    <tr>\n",
       "      <th>567</th>\n",
       "      <td>927241</td>\n",
       "      <td>M</td>\n",
       "      <td>20.60</td>\n",
       "      <td>29.33</td>\n",
       "      <td>140.10</td>\n",
       "      <td>1265.0</td>\n",
       "      <td>0.11780</td>\n",
       "      <td>0.27700</td>\n",
       "      <td>0.35140</td>\n",
       "      <td>0.15200</td>\n",
       "      <td>...</td>\n",
       "      <td>25.740</td>\n",
       "      <td>39.42</td>\n",
       "      <td>184.60</td>\n",
       "      <td>1821.0</td>\n",
       "      <td>0.16500</td>\n",
       "      <td>0.86810</td>\n",
       "      <td>0.9387</td>\n",
       "      <td>0.2650</td>\n",
       "      <td>0.4087</td>\n",
       "      <td>0.12400</td>\n",
       "    </tr>\n",
       "    <tr>\n",
       "      <th>568</th>\n",
       "      <td>92751</td>\n",
       "      <td>B</td>\n",
       "      <td>7.76</td>\n",
       "      <td>24.54</td>\n",
       "      <td>47.92</td>\n",
       "      <td>181.0</td>\n",
       "      <td>0.05263</td>\n",
       "      <td>0.04362</td>\n",
       "      <td>0.00000</td>\n",
       "      <td>0.00000</td>\n",
       "      <td>...</td>\n",
       "      <td>9.456</td>\n",
       "      <td>30.37</td>\n",
       "      <td>59.16</td>\n",
       "      <td>268.6</td>\n",
       "      <td>0.08996</td>\n",
       "      <td>0.06444</td>\n",
       "      <td>0.0000</td>\n",
       "      <td>0.0000</td>\n",
       "      <td>0.2871</td>\n",
       "      <td>0.07039</td>\n",
       "    </tr>\n",
       "  </tbody>\n",
       "</table>\n",
       "<p>569 rows × 32 columns</p>\n",
       "</div>"
      ],
      "text/plain": [
       "           ID Diagnosis  radius_mean  texture_mean  perimeter_mean  area_mean  \\\n",
       "0      842302         M        17.99         10.38          122.80     1001.0   \n",
       "1      842517         M        20.57         17.77          132.90     1326.0   \n",
       "2    84300903         M        19.69         21.25          130.00     1203.0   \n",
       "3    84348301         M        11.42         20.38           77.58      386.1   \n",
       "4    84358402         M        20.29         14.34          135.10     1297.0   \n",
       "..        ...       ...          ...           ...             ...        ...   \n",
       "564    926424         M        21.56         22.39          142.00     1479.0   \n",
       "565    926682         M        20.13         28.25          131.20     1261.0   \n",
       "566    926954         M        16.60         28.08          108.30      858.1   \n",
       "567    927241         M        20.60         29.33          140.10     1265.0   \n",
       "568     92751         B         7.76         24.54           47.92      181.0   \n",
       "\n",
       "     smoothness_mean  compactness_mean  concavity_mean  concave_points_mean  \\\n",
       "0            0.11840           0.27760         0.30010              0.14710   \n",
       "1            0.08474           0.07864         0.08690              0.07017   \n",
       "2            0.10960           0.15990         0.19740              0.12790   \n",
       "3            0.14250           0.28390         0.24140              0.10520   \n",
       "4            0.10030           0.13280         0.19800              0.10430   \n",
       "..               ...               ...             ...                  ...   \n",
       "564          0.11100           0.11590         0.24390              0.13890   \n",
       "565          0.09780           0.10340         0.14400              0.09791   \n",
       "566          0.08455           0.10230         0.09251              0.05302   \n",
       "567          0.11780           0.27700         0.35140              0.15200   \n",
       "568          0.05263           0.04362         0.00000              0.00000   \n",
       "\n",
       "     ...  radius_mean_worst  texture_mean_worst  perimeter_mean_worst  \\\n",
       "0    ...             25.380               17.33                184.60   \n",
       "1    ...             24.990               23.41                158.80   \n",
       "2    ...             23.570               25.53                152.50   \n",
       "3    ...             14.910               26.50                 98.87   \n",
       "4    ...             22.540               16.67                152.20   \n",
       "..   ...                ...                 ...                   ...   \n",
       "564  ...             25.450               26.40                166.10   \n",
       "565  ...             23.690               38.25                155.00   \n",
       "566  ...             18.980               34.12                126.70   \n",
       "567  ...             25.740               39.42                184.60   \n",
       "568  ...              9.456               30.37                 59.16   \n",
       "\n",
       "     area_mean_worst  smoothness_mean_worst  compactness_mean_worst  \\\n",
       "0             2019.0                0.16220                 0.66560   \n",
       "1             1956.0                0.12380                 0.18660   \n",
       "2             1709.0                0.14440                 0.42450   \n",
       "3              567.7                0.20980                 0.86630   \n",
       "4             1575.0                0.13740                 0.20500   \n",
       "..               ...                    ...                     ...   \n",
       "564           2027.0                0.14100                 0.21130   \n",
       "565           1731.0                0.11660                 0.19220   \n",
       "566           1124.0                0.11390                 0.30940   \n",
       "567           1821.0                0.16500                 0.86810   \n",
       "568            268.6                0.08996                 0.06444   \n",
       "\n",
       "     concavity_mean_worst  concave_points_mean_worst  symmetry_mean_worst  \\\n",
       "0                  0.7119                     0.2654               0.4601   \n",
       "1                  0.2416                     0.1860               0.2750   \n",
       "2                  0.4504                     0.2430               0.3613   \n",
       "3                  0.6869                     0.2575               0.6638   \n",
       "4                  0.4000                     0.1625               0.2364   \n",
       "..                    ...                        ...                  ...   \n",
       "564                0.4107                     0.2216               0.2060   \n",
       "565                0.3215                     0.1628               0.2572   \n",
       "566                0.3403                     0.1418               0.2218   \n",
       "567                0.9387                     0.2650               0.4087   \n",
       "568                0.0000                     0.0000               0.2871   \n",
       "\n",
       "     fractal_dimension_mean_worst  \n",
       "0                         0.11890  \n",
       "1                         0.08902  \n",
       "2                         0.08758  \n",
       "3                         0.17300  \n",
       "4                         0.07678  \n",
       "..                            ...  \n",
       "564                       0.07115  \n",
       "565                       0.06637  \n",
       "566                       0.07820  \n",
       "567                       0.12400  \n",
       "568                       0.07039  \n",
       "\n",
       "[569 rows x 32 columns]"
      ]
     },
     "execution_count": 90,
     "metadata": {},
     "output_type": "execute_result"
    }
   ],
   "source": [
    "names=[]\n",
    "path= \"C://Users//Lenovo//Downloads//Jupiter//a3.csv\"\n",
    "for i in range(1,31):\n",
    "    names.append(i)\n",
    "features = [\"radius\",\"texture\",\"perimeter\",\"area\",\"smoothness\",\"compactness\",\"concavity\",\"concave_points\",\"symmetry\",\\\n",
    "         \"fractal_dimension\"]\n",
    "for i in range(10):\n",
    "    n = features[i]\n",
    "    ind1 = i + 10\n",
    "    ind2 = i + 20\n",
    "    names[i] = n+\"_mean\"\n",
    "    names[ind1] = n+\"_std\"\n",
    "    names[ind2] = n+\"_mean_worst\"\n",
    "names_f = [\"ID\",\"Diagnosis\"]+ names\n",
    "df= pd.read_csv(path,names=names_f)\n",
    "df"
   ]
  },
  {
   "cell_type": "code",
   "execution_count": 92,
   "metadata": {},
   "outputs": [],
   "source": [
    "df=df.drop([\"ID\"],axis=1)"
   ]
  },
  {
   "cell_type": "code",
   "execution_count": 61,
   "metadata": {},
   "outputs": [
    {
     "name": "stdout",
     "output_type": "stream",
     "text": [
      "<class 'pandas.core.frame.DataFrame'>\n",
      "RangeIndex: 569 entries, 0 to 568\n",
      "Data columns (total 31 columns):\n",
      " #   Column                        Non-Null Count  Dtype  \n",
      "---  ------                        --------------  -----  \n",
      " 0   Diagnosis                     569 non-null    object \n",
      " 1   radius_mean                   569 non-null    float64\n",
      " 2   texture_mean                  569 non-null    float64\n",
      " 3   perimeter_mean                569 non-null    float64\n",
      " 4   area_mean                     569 non-null    float64\n",
      " 5   smoothness_mean               569 non-null    float64\n",
      " 6   compactness_mean              569 non-null    float64\n",
      " 7   concavity_mean                569 non-null    float64\n",
      " 8   concave_points_mean           569 non-null    float64\n",
      " 9   symmetry_mean                 569 non-null    float64\n",
      " 10  fractal_dimension_mean        569 non-null    float64\n",
      " 11  radius_std                    569 non-null    float64\n",
      " 12  texture_std                   569 non-null    float64\n",
      " 13  perimeter_std                 569 non-null    float64\n",
      " 14  area_std                      569 non-null    float64\n",
      " 15  smoothness_std                569 non-null    float64\n",
      " 16  compactness_std               569 non-null    float64\n",
      " 17  concavity_std                 569 non-null    float64\n",
      " 18  concave_points_std            569 non-null    float64\n",
      " 19  symmetry_std                  569 non-null    float64\n",
      " 20  fractal_dimension_std         569 non-null    float64\n",
      " 21  radius_mean_worst             569 non-null    float64\n",
      " 22  texture_mean_worst            569 non-null    float64\n",
      " 23  perimeter_mean_worst          569 non-null    float64\n",
      " 24  area_mean_worst               569 non-null    float64\n",
      " 25  smoothness_mean_worst         569 non-null    float64\n",
      " 26  compactness_mean_worst        569 non-null    float64\n",
      " 27  concavity_mean_worst          569 non-null    float64\n",
      " 28  concave_points_mean_worst     569 non-null    float64\n",
      " 29  symmetry_mean_worst           569 non-null    float64\n",
      " 30  fractal_dimension_mean_worst  569 non-null    float64\n",
      "dtypes: float64(30), object(1)\n",
      "memory usage: 137.9+ KB\n"
     ]
    }
   ],
   "source": [
    "df.info()"
   ]
  },
  {
   "cell_type": "code",
   "execution_count": 28,
   "metadata": {},
   "outputs": [
    {
     "data": {
      "text/plain": [
       "(569, 30)"
      ]
     },
     "execution_count": 28,
     "metadata": {},
     "output_type": "execute_result"
    }
   ],
   "source": [
    "df2.shape"
   ]
  },
  {
   "cell_type": "code",
   "execution_count": 29,
   "metadata": {},
   "outputs": [
    {
     "data": {
      "text/plain": [
       "radius_mean                     0\n",
       "texture_mean                    0\n",
       "perimeter_mean                  0\n",
       "area,_mean                      0\n",
       "smoothness_mean                 0\n",
       "compactness_mean                0\n",
       "concavity_mean                  0\n",
       "concave_points_mean             0\n",
       "symmetry_mean                   0\n",
       "fractal_dimension_mean          0\n",
       "radius_std                      0\n",
       "texture_std                     0\n",
       "perimeter_std                   0\n",
       "area,_std                       0\n",
       "smoothness_std                  0\n",
       "compactness_std                 0\n",
       "concavity_std                   0\n",
       "concave_points_std              0\n",
       "symmetry_std                    0\n",
       "fractal_dimension_std           0\n",
       "radius_mean_worst               0\n",
       "texture_mean_worst              0\n",
       "perimeter_mean_worst            0\n",
       "area,_mean_worst                0\n",
       "smoothness_mean_worst           0\n",
       "compactness_mean_worst          0\n",
       "concavity_mean_worst            0\n",
       "concave_points_mean_worst       0\n",
       "symmetry_mean_worst             0\n",
       "fractal_dimension_mean_worst    0\n",
       "dtype: int64"
      ]
     },
     "execution_count": 29,
     "metadata": {},
     "output_type": "execute_result"
    }
   ],
   "source": [
    "df2.isna().sum()"
   ]
  },
  {
   "cell_type": "code",
   "execution_count": 102,
   "metadata": {},
   "outputs": [],
   "source": [
    "#Splitting the dataset on x and y\n",
    "x = df.iloc[:, 1:df.shape[1]]\n",
    "y = df.iloc[:,0]\n",
    "x = StandardScaler().fit_transform(x)\n"
   ]
  },
  {
   "cell_type": "markdown",
   "metadata": {},
   "source": [
    "Logistic Regression"
   ]
  },
  {
   "cell_type": "code",
   "execution_count": 210,
   "metadata": {},
   "outputs": [
    {
     "name": "stdout",
     "output_type": "stream",
     "text": [
      "Logistic Regression fit takes time: 0.03092217445373535\n"
     ]
    }
   ],
   "source": [
    "logreg = LogisticRegression()\n",
    "start= time.time()\n",
    "logreg.fit(x,y)\n",
    "end= time.time()\n",
    "print(\"Logistic Regression fit takes time:\",end-start)"
   ]
  },
  {
   "cell_type": "code",
   "execution_count": 211,
   "metadata": {},
   "outputs": [
    {
     "name": "stdout",
     "output_type": "stream",
     "text": [
      "Accuracy of logistic regression classifier on test set: 0.99\n"
     ]
    }
   ],
   "source": [
    "y_pred = logreg.predict(x)\n",
    "print('Accuracy of logistic regression classifier on test set: {:.2f}'.format(logreg.score(x, y)))"
   ]
  },
  {
   "cell_type": "code",
   "execution_count": 212,
   "metadata": {},
   "outputs": [
    {
     "name": "stdout",
     "output_type": "stream",
     "text": [
      "              precision    recall  f1-score   support\n",
      "\n",
      "           B       0.99      0.99      0.99       357\n",
      "           M       0.99      0.98      0.98       212\n",
      "\n",
      "    accuracy                           0.99       569\n",
      "   macro avg       0.99      0.99      0.99       569\n",
      "weighted avg       0.99      0.99      0.99       569\n",
      "\n"
     ]
    }
   ],
   "source": [
    "print(classification_report(y, y_pred))"
   ]
  },
  {
   "cell_type": "markdown",
   "metadata": {},
   "source": [
    "SGD Classifier"
   ]
  },
  {
   "cell_type": "code",
   "execution_count": 190,
   "metadata": {},
   "outputs": [
    {
     "name": "stdout",
     "output_type": "stream",
     "text": [
      "CLF fit takes time: 0.00697636604309082\n"
     ]
    }
   ],
   "source": [
    "clf = SGDClassifier()\n",
    "start= time.time()\n",
    "clf.fit(x,y)\n",
    "end= time.time()\n",
    "print(\"CLF fit takes time:\",end-start)"
   ]
  },
  {
   "cell_type": "code",
   "execution_count": 191,
   "metadata": {},
   "outputs": [
    {
     "name": "stdout",
     "output_type": "stream",
     "text": [
      "Accuracy of CLF classifier on test set: 0.97\n"
     ]
    }
   ],
   "source": [
    "y_pred = clf.predict(x)\n",
    "print('Accuracy of CLF classifier on test set: {:.2f}'.format(clf.score(x, y)))"
   ]
  },
  {
   "cell_type": "code",
   "execution_count": 148,
   "metadata": {},
   "outputs": [
    {
     "name": "stdout",
     "output_type": "stream",
     "text": [
      "              precision    recall  f1-score   support\n",
      "\n",
      "           B       0.98      0.97      0.97       357\n",
      "           M       0.94      0.97      0.96       212\n",
      "\n",
      "    accuracy                           0.97       569\n",
      "   macro avg       0.96      0.97      0.97       569\n",
      "weighted avg       0.97      0.97      0.97       569\n",
      "\n"
     ]
    }
   ],
   "source": [
    "print(classification_report(y, y_pred))"
   ]
  },
  {
   "cell_type": "markdown",
   "metadata": {},
   "source": [
    "Decision tree"
   ]
  },
  {
   "cell_type": "code",
   "execution_count": 192,
   "metadata": {},
   "outputs": [
    {
     "name": "stdout",
     "output_type": "stream",
     "text": [
      "Decision tree fit takes time: 0.019945621490478516\n"
     ]
    }
   ],
   "source": [
    "from sklearn.tree import DecisionTreeClassifier\n",
    "classifier = DecisionTreeClassifier()\n",
    "start= time.time()\n",
    "classifier.fit(x,y)\n",
    "end= time.time()\n",
    "print(\"Decision tree fit takes time:\",end-start)"
   ]
  },
  {
   "cell_type": "code",
   "execution_count": 193,
   "metadata": {},
   "outputs": [
    {
     "name": "stdout",
     "output_type": "stream",
     "text": [
      "Accuracy of Decision tree classifier on test set: 1.00\n"
     ]
    }
   ],
   "source": [
    "y_pred = classifier.predict(x)\n",
    "print('Accuracy of Decision tree classifier on test set: {:.2f}'.format(classifier.score(x, y)))"
   ]
  },
  {
   "cell_type": "code",
   "execution_count": 152,
   "metadata": {},
   "outputs": [
    {
     "name": "stdout",
     "output_type": "stream",
     "text": [
      "              precision    recall  f1-score   support\n",
      "\n",
      "           B       1.00      1.00      1.00       357\n",
      "           M       1.00      1.00      1.00       212\n",
      "\n",
      "    accuracy                           1.00       569\n",
      "   macro avg       1.00      1.00      1.00       569\n",
      "weighted avg       1.00      1.00      1.00       569\n",
      "\n"
     ]
    }
   ],
   "source": [
    "print(classification_report(y, y_pred))"
   ]
  },
  {
   "cell_type": "code",
   "execution_count": 98,
   "metadata": {},
   "outputs": [],
   "source": [
    "from sklearn.decomposition import PCA\n",
    "pca = PCA(n_components=2)\n",
    "principalComponents = pca.fit_transform(x)"
   ]
  },
  {
   "cell_type": "code",
   "execution_count": 133,
   "metadata": {},
   "outputs": [
    {
     "data": {
      "text/plain": [
       "array([0.44272026, 0.18971182, 0.09393163, 0.06602135, 0.05495768,\n",
       "       0.04024522, 0.02250734, 0.01588724, 0.01389649, 0.01168978])"
      ]
     },
     "execution_count": 133,
     "metadata": {},
     "output_type": "execute_result"
    }
   ],
   "source": [
    "pca.explained_variance_ratio_"
   ]
  },
  {
   "cell_type": "code",
   "execution_count": 197,
   "metadata": {},
   "outputs": [
    {
     "name": "stdout",
     "output_type": "stream",
     "text": [
      "Decision tree (Principal_comp=2) fit takes time: 0.005982398986816406\n"
     ]
    }
   ],
   "source": [
    "start= time.time()\n",
    "classifier.fit(principalComponents, y)\n",
    "end= time.time()\n",
    "print(\"Decision tree (Principal_comp=2) fit takes time:\",end-start)"
   ]
  },
  {
   "cell_type": "code",
   "execution_count": 199,
   "metadata": {},
   "outputs": [
    {
     "name": "stdout",
     "output_type": "stream",
     "text": [
      "Accuracy of Decision tree classifier (Principal_comp=2) on test set: 1.00\n"
     ]
    }
   ],
   "source": [
    "y_pred = classifier.predict(principalComponents)\n",
    "print('Accuracy of Decision tree classifier (Principal_comp=2) on test set: {:.2f}'.format(classifier.score(principalComponents, y)))"
   ]
  },
  {
   "cell_type": "code",
   "execution_count": 159,
   "metadata": {},
   "outputs": [
    {
     "name": "stdout",
     "output_type": "stream",
     "text": [
      "              precision    recall  f1-score   support\n",
      "\n",
      "           B       1.00      1.00      1.00       357\n",
      "           M       1.00      1.00      1.00       212\n",
      "\n",
      "    accuracy                           1.00       569\n",
      "   macro avg       1.00      1.00      1.00       569\n",
      "weighted avg       1.00      1.00      1.00       569\n",
      "\n"
     ]
    }
   ],
   "source": [
    "print(classification_report(y, y_pred))"
   ]
  },
  {
   "cell_type": "code",
   "execution_count": 213,
   "metadata": {},
   "outputs": [
    {
     "name": "stdout",
     "output_type": "stream",
     "text": [
      "Logistic Regression (Principal_comp=2) fit takes time: 0.021945953369140625\n"
     ]
    }
   ],
   "source": [
    "start= time.time()\n",
    "logreg.fit(principalComponents, y)\n",
    "end= time.time()\n",
    "print(\"Logistic Regression (Principal_comp=2) fit takes time:\",end-start)"
   ]
  },
  {
   "cell_type": "code",
   "execution_count": 214,
   "metadata": {},
   "outputs": [
    {
     "name": "stdout",
     "output_type": "stream",
     "text": [
      "Accuracy of logistic regression classifier (Principal_comp=2) on test set: 0.99\n"
     ]
    }
   ],
   "source": [
    "y_pred = logreg.predict(principalComponents)\n",
    "print('Accuracy of logistic regression classifier (Principal_comp=2) on test set: {:.2f}'.format(logreg.score(principalComponents, y)))"
   ]
  },
  {
   "cell_type": "code",
   "execution_count": 215,
   "metadata": {},
   "outputs": [
    {
     "name": "stdout",
     "output_type": "stream",
     "text": [
      "              precision    recall  f1-score   support\n",
      "\n",
      "           B       0.98      0.99      0.99       357\n",
      "           M       0.99      0.97      0.98       212\n",
      "\n",
      "    accuracy                           0.99       569\n",
      "   macro avg       0.99      0.98      0.98       569\n",
      "weighted avg       0.99      0.99      0.99       569\n",
      "\n"
     ]
    }
   ],
   "source": [
    "print(classification_report(y, y_pred))"
   ]
  },
  {
   "cell_type": "code",
   "execution_count": 201,
   "metadata": {},
   "outputs": [
    {
     "name": "stdout",
     "output_type": "stream",
     "text": [
      "CLF (Principal_comp=2) fit takes time: 0.003989696502685547\n"
     ]
    }
   ],
   "source": [
    "start= time.time()\n",
    "clf = SGDClassifier()\n",
    "clf.fit(principalComponents, y)\n",
    "end= time.time()\n",
    "print(\"CLF (Principal_comp=2) fit takes time:\",end-start)"
   ]
  },
  {
   "cell_type": "code",
   "execution_count": 202,
   "metadata": {},
   "outputs": [
    {
     "name": "stdout",
     "output_type": "stream",
     "text": [
      "Accuracy of CLF (Principal_comp=2)  on test set: 0.97\n"
     ]
    }
   ],
   "source": [
    "y_pred = clf.predict(principalComponents)\n",
    "print('Accuracy of CLF (Principal_comp=2)  on test set: {:.2f}'.format(clf.score(principalComponents, y)))"
   ]
  },
  {
   "cell_type": "code",
   "execution_count": 165,
   "metadata": {},
   "outputs": [
    {
     "name": "stdout",
     "output_type": "stream",
     "text": [
      "              precision    recall  f1-score   support\n",
      "\n",
      "           B       0.98      0.96      0.97       357\n",
      "           M       0.94      0.97      0.95       212\n",
      "\n",
      "    accuracy                           0.96       569\n",
      "   macro avg       0.96      0.97      0.96       569\n",
      "weighted avg       0.97      0.96      0.96       569\n",
      "\n"
     ]
    }
   ],
   "source": [
    "print(classification_report(y, y_pred))"
   ]
  },
  {
   "cell_type": "code",
   "execution_count": 115,
   "metadata": {},
   "outputs": [],
   "source": [
    "pca = PCA(.95)\n",
    "principalComponents = pca.fit_transform(x)"
   ]
  },
  {
   "cell_type": "code",
   "execution_count": 113,
   "metadata": {},
   "outputs": [
    {
     "data": {
      "text/plain": [
       "array([0.44272026, 0.18971182, 0.09393163, 0.06602135, 0.05495768,\n",
       "       0.04024522, 0.02250734, 0.01588724, 0.01389649, 0.01168978])"
      ]
     },
     "execution_count": 113,
     "metadata": {},
     "output_type": "execute_result"
    }
   ],
   "source": [
    "pca.explained_variance_ratio_"
   ]
  },
  {
   "cell_type": "code",
   "execution_count": 208,
   "metadata": {},
   "outputs": [
    {
     "name": "stdout",
     "output_type": "stream",
     "text": [
      "Decision tree (Principal_comp=.95) fit takes time: 0.008939027786254883\n"
     ]
    }
   ],
   "source": [
    "start= time.time()\n",
    "classifier.fit(principalComponents, y)\n",
    "end= time.time()\n",
    "print(\"Decision tree (Principal_comp=.95) fit takes time:\",end-start)"
   ]
  },
  {
   "cell_type": "code",
   "execution_count": 209,
   "metadata": {},
   "outputs": [
    {
     "name": "stdout",
     "output_type": "stream",
     "text": [
      "Accuracy of Decision tree (Principal_comp=.95) on test set: 1.00\n"
     ]
    }
   ],
   "source": [
    "y_pred = classifier.predict(principalComponents)\n",
    "print('Accuracy of Decision tree (Principal_comp=.95) on test set: {:.2f}'.format(classifier.score(principalComponents, y)))"
   ]
  },
  {
   "cell_type": "code",
   "execution_count": 168,
   "metadata": {},
   "outputs": [
    {
     "name": "stdout",
     "output_type": "stream",
     "text": [
      "              precision    recall  f1-score   support\n",
      "\n",
      "           B       1.00      1.00      1.00       357\n",
      "           M       1.00      1.00      1.00       212\n",
      "\n",
      "    accuracy                           1.00       569\n",
      "   macro avg       1.00      1.00      1.00       569\n",
      "weighted avg       1.00      1.00      1.00       569\n",
      "\n"
     ]
    }
   ],
   "source": [
    "print(classification_report(y, y_pred))"
   ]
  },
  {
   "cell_type": "code",
   "execution_count": 204,
   "metadata": {},
   "outputs": [
    {
     "name": "stdout",
     "output_type": "stream",
     "text": [
      "CLF (Principal_comp=.95) fit takes time: 0.0039904117584228516\n"
     ]
    }
   ],
   "source": [
    "start= time.time()\n",
    "clf = SGDClassifier()\n",
    "clf.fit(principalComponents, y)\n",
    "end= time.time()\n",
    "print(\"CLF (Principal_comp=.95) fit takes time:\",end-start)"
   ]
  },
  {
   "cell_type": "code",
   "execution_count": 205,
   "metadata": {},
   "outputs": [
    {
     "name": "stdout",
     "output_type": "stream",
     "text": [
      "Accuracy of CLF (Principal_comp=.95) on test set: 0.98\n"
     ]
    }
   ],
   "source": [
    "y_pred = clf.predict(principalComponents)\n",
    "print('Accuracy of CLF (Principal_comp=.95) on test set: {:.2f}'.format(clf.score(principalComponents, y)))"
   ]
  },
  {
   "cell_type": "code",
   "execution_count": 171,
   "metadata": {},
   "outputs": [
    {
     "name": "stdout",
     "output_type": "stream",
     "text": [
      "              precision    recall  f1-score   support\n",
      "\n",
      "           B       0.96      0.97      0.97       357\n",
      "           M       0.96      0.93      0.94       212\n",
      "\n",
      "    accuracy                           0.96       569\n",
      "   macro avg       0.96      0.95      0.95       569\n",
      "weighted avg       0.96      0.96      0.96       569\n",
      "\n"
     ]
    }
   ],
   "source": [
    "print(classification_report(y, y_pred))"
   ]
  },
  {
   "cell_type": "code",
   "execution_count": 216,
   "metadata": {},
   "outputs": [
    {
     "name": "stdout",
     "output_type": "stream",
     "text": [
      "Logistic Regression (Principal_comp=2) fit takes time: 0.02094554901123047\n"
     ]
    }
   ],
   "source": [
    "start= time.time()\n",
    "logreg.fit(principalComponents, y)\n",
    "end= time.time()\n",
    "print(\"Logistic Regression (Principal_comp=2) fit takes time:\",end-start)"
   ]
  },
  {
   "cell_type": "code",
   "execution_count": 217,
   "metadata": {},
   "outputs": [
    {
     "name": "stdout",
     "output_type": "stream",
     "text": [
      "Accuracy of Logistic Regression (Principal_comp=2) on test set: 0.99\n"
     ]
    }
   ],
   "source": [
    "y_pred = logreg.predict(principalComponents)\n",
    "print('Accuracy of Logistic Regression (Principal_comp=2) on test set: {:.2f}'.format(logreg.score(principalComponents, y)))"
   ]
  },
  {
   "cell_type": "code",
   "execution_count": 218,
   "metadata": {},
   "outputs": [
    {
     "name": "stdout",
     "output_type": "stream",
     "text": [
      "              precision    recall  f1-score   support\n",
      "\n",
      "           B       0.98      0.99      0.99       357\n",
      "           M       0.99      0.97      0.98       212\n",
      "\n",
      "    accuracy                           0.99       569\n",
      "   macro avg       0.99      0.98      0.98       569\n",
      "weighted avg       0.99      0.99      0.99       569\n",
      "\n"
     ]
    }
   ],
   "source": [
    "print(classification_report(y, y_pred))"
   ]
  },
  {
   "cell_type": "code",
   "execution_count": null,
   "metadata": {},
   "outputs": [],
   "source": []
  }
 ],
 "metadata": {
  "kernelspec": {
   "display_name": "Python 3",
   "language": "python",
   "name": "python3"
  },
  "language_info": {
   "codemirror_mode": {
    "name": "ipython",
    "version": 3
   },
   "file_extension": ".py",
   "mimetype": "text/x-python",
   "name": "python",
   "nbconvert_exporter": "python",
   "pygments_lexer": "ipython3",
   "version": "3.8.8"
  }
 },
 "nbformat": 4,
 "nbformat_minor": 2
}
